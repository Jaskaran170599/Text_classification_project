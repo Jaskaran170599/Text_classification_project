{
 "cells": [
  {
   "cell_type": "markdown",
   "metadata": {},
   "source": [
    "# Implementing MultinomialNB "
   ]
  },
  {
   "cell_type": "code",
   "execution_count": 3,
   "metadata": {},
   "outputs": [],
   "source": [
    "import pandas as pd\n",
    "import numpy as np\n",
    "import math\n",
    "import string\n",
    "\n",
    "from sklearn.naive_bayes import MultinomialNB "
   ]
  },
  {
   "cell_type": "code",
   "execution_count": 5,
   "metadata": {},
   "outputs": [],
   "source": [
    "class _MultinomialNB_:\n",
    "    dictionary=None         # contains classes with sub col dictionaries\n",
    "    \n",
    "    __NC=None               # len of vocabulary or columns\n",
    "   \n",
    "    def fit(self,x,y):      # creates the dictionary\n",
    "        y=pd.DataFrame(y)\n",
    "        y.columns=['0']\n",
    "        self.dictionary={}\n",
    "        self.__NC=x.shape[1]\n",
    "        set_y=set(y['0'])\n",
    "        self.dictionary['__total']=len(y['0'])     #total len of dataset\n",
    "        \n",
    "        for i in set_y:\n",
    "            self.dictionary[i]={}\n",
    "            small_data=x[y['0']==i]\n",
    "            self.dictionary[i]['__total']=len(small_data)\n",
    "            num=0\n",
    "            for j in x.columns:\n",
    "                self.dictionary[i][j]=small_data[j].sum()  # num of 'j' word occur in 'i' class\n",
    "                num+=small_data[j].sum()\n",
    "            \n",
    "            self.dictionary[i]['total_feat']=num     # total no of words in 'i' class \n",
    "            \n",
    "        \n",
    "        \n",
    "    def __help3(self,y,j):    # Log_probability\n",
    "                              # (n+1)/(nc+nv)\n",
    "                              #where n=no of 'j' word\n",
    "                              #nc=len of vocabulary or columns\n",
    "                              #nv=no of total words in 'y' class\n",
    "        return (np.log(self.dictionary[y][j]+1)-np.log(self.dictionary[y]['total_feat']+self.__NC))\n",
    "    \n",
    "    \n",
    "    def __help2(self,y,x):\n",
    "        probab=0\n",
    "        for i in self.dictionary[y].keys():            #traverse over vocabulary or columns\n",
    "            if ((i == '__total') or (i=='total_feat')):\n",
    "                continue\n",
    "            probab+=self.__help3(y,i)*(x[i])       #num of times word appeared * probability of having that word\n",
    "            \n",
    "        probab+=np.log(self.dictionary[y]['__total'])-np.log(self.dictionary['__total']) # probability 'y' class\n",
    "        return probab\n",
    "        \n",
    "    \n",
    "    def __help1(self,x):\n",
    "        best=''\n",
    "        best_P=None \n",
    "        for i in self.dictionary.keys():        #traverse every class\n",
    "            if i =='__total':\n",
    "                continue\n",
    "            \n",
    "            probab=self.__help2(i,x)            # return class probab\n",
    "                      \n",
    "            if((best_P == None ) or(probab>best_P)):    # choose the max probab class\n",
    "                best_P=probab\n",
    "                best=i\n",
    "            \n",
    "    \n",
    "        return best\n",
    "    \n",
    "    def predict(self,x):\n",
    "        yp=[]\n",
    "        num=0\n",
    "        for i in range(x.shape[0]):          #traverse over every data\n",
    "            yp.append(self.__help1(x.iloc[i,:]))\n",
    "            print(num)    \n",
    "            num+=1\n",
    "        yp=np.array(yp)\n",
    "        return yp"
   ]
  },
  {
   "cell_type": "code",
   "execution_count": 6,
   "metadata": {},
   "outputs": [
    {
     "data": {
      "text/plain": [
       "((15997, 3000), (15997,))"
      ]
     },
     "execution_count": 6,
     "metadata": {},
     "output_type": "execute_result"
    }
   ],
   "source": [
    "data=pd.read_csv('train_dataset.csv')      #training dataset\n",
    "x=data.iloc[:,1:-1]                         # first column is un-named indexing\n",
    "y=data.iloc[:,-1]\n",
    "x.shape,y.shape"
   ]
  },
  {
   "cell_type": "code",
   "execution_count": 7,
   "metadata": {},
   "outputs": [
    {
     "data": {
      "text/plain": [
       "((200, 3000), (200,))"
      ]
     },
     "execution_count": 7,
     "metadata": {},
     "output_type": "execute_result"
    }
   ],
   "source": [
    "test=pd.read_csv('test_dataset.csv')        #loading testing dataset\n",
    "xt=test.iloc[:,1:-1]                         #first col is indexing\n",
    "yt=test.iloc[:,-1]\n",
    "xt.shape,yt.shape"
   ]
  },
  {
   "cell_type": "code",
   "execution_count": 8,
   "metadata": {},
   "outputs": [
    {
     "name": "stdout",
     "output_type": "stream",
     "text": [
      "0\n",
      "1\n",
      "2\n",
      "3\n",
      "4\n",
      "5\n",
      "6\n",
      "7\n",
      "8\n",
      "9\n",
      "10\n",
      "11\n",
      "12\n",
      "13\n",
      "14\n",
      "15\n",
      "16\n",
      "17\n",
      "18\n",
      "19\n",
      "20\n",
      "21\n",
      "22\n",
      "23\n",
      "24\n",
      "25\n",
      "26\n",
      "27\n",
      "28\n",
      "29\n",
      "30\n",
      "31\n",
      "32\n",
      "33\n",
      "34\n",
      "35\n",
      "36\n",
      "37\n",
      "38\n",
      "39\n",
      "40\n",
      "41\n",
      "42\n",
      "43\n",
      "44\n",
      "45\n",
      "46\n",
      "47\n",
      "48\n",
      "49\n",
      "50\n",
      "51\n",
      "52\n",
      "53\n",
      "54\n",
      "55\n",
      "56\n",
      "57\n",
      "58\n",
      "59\n",
      "60\n",
      "61\n",
      "62\n",
      "63\n",
      "64\n",
      "65\n",
      "66\n",
      "67\n",
      "68\n",
      "69\n",
      "70\n",
      "71\n",
      "72\n",
      "73\n",
      "74\n",
      "75\n",
      "76\n",
      "77\n",
      "78\n",
      "79\n",
      "80\n",
      "81\n",
      "82\n",
      "83\n",
      "84\n",
      "85\n",
      "86\n",
      "87\n",
      "88\n",
      "89\n",
      "90\n",
      "91\n",
      "92\n",
      "93\n",
      "94\n",
      "95\n",
      "96\n",
      "97\n",
      "98\n",
      "99\n",
      "100\n",
      "101\n",
      "102\n",
      "103\n",
      "104\n",
      "105\n",
      "106\n",
      "107\n",
      "108\n",
      "109\n",
      "110\n",
      "111\n",
      "112\n",
      "113\n",
      "114\n",
      "115\n",
      "116\n",
      "117\n",
      "118\n",
      "119\n",
      "120\n",
      "121\n",
      "122\n",
      "123\n",
      "124\n",
      "125\n",
      "126\n",
      "127\n",
      "128\n",
      "129\n",
      "130\n",
      "131\n",
      "132\n",
      "133\n",
      "134\n",
      "135\n",
      "136\n",
      "137\n",
      "138\n",
      "139\n",
      "140\n",
      "141\n",
      "142\n",
      "143\n",
      "144\n",
      "145\n",
      "146\n",
      "147\n",
      "148\n",
      "149\n",
      "150\n",
      "151\n",
      "152\n",
      "153\n",
      "154\n",
      "155\n",
      "156\n",
      "157\n",
      "158\n",
      "159\n",
      "160\n",
      "161\n",
      "162\n",
      "163\n",
      "164\n",
      "165\n",
      "166\n",
      "167\n",
      "168\n",
      "169\n",
      "170\n",
      "171\n",
      "172\n",
      "173\n",
      "174\n",
      "175\n",
      "176\n",
      "177\n",
      "178\n",
      "179\n",
      "180\n",
      "181\n",
      "182\n",
      "183\n",
      "184\n",
      "185\n",
      "186\n",
      "187\n",
      "188\n",
      "189\n",
      "190\n",
      "191\n",
      "192\n",
      "193\n",
      "194\n",
      "195\n",
      "196\n",
      "197\n",
      "198\n",
      "199\n"
     ]
    }
   ],
   "source": [
    "NB=_MultinomialNB_()      #implemented_Multinomial_NB\n",
    "NB.fit(x,y)\n",
    "yp=NB.predict(xt)"
   ]
  },
  {
   "cell_type": "code",
   "execution_count": 9,
   "metadata": {},
   "outputs": [],
   "source": [
    "nb=MultinomialNB()      #inbuilt MULTINOMIAL NB\n",
    "nb.fit(x,y)\n",
    "yp1=nb.predict(xt)"
   ]
  },
  {
   "cell_type": "code",
   "execution_count": 10,
   "metadata": {},
   "outputs": [
    {
     "data": {
      "text/plain": [
       "0.805"
      ]
     },
     "execution_count": 10,
     "metadata": {},
     "output_type": "execute_result"
    }
   ],
   "source": [
    "(yp1==yt).sum()/len(yt)    #inbuilt MultinomialNB accuracy"
   ]
  },
  {
   "cell_type": "code",
   "execution_count": 11,
   "metadata": {},
   "outputs": [
    {
     "data": {
      "text/plain": [
       "0.805"
      ]
     },
     "execution_count": 11,
     "metadata": {},
     "output_type": "execute_result"
    }
   ],
   "source": [
    "(yp==yt).sum()/len(yt)     #implemented MultinomialNB accuracy"
   ]
  },
  {
   "cell_type": "code",
   "execution_count": null,
   "metadata": {},
   "outputs": [],
   "source": []
  }
 ],
 "metadata": {
  "kernelspec": {
   "display_name": "Python 3",
   "language": "python",
   "name": "python3"
  },
  "language_info": {
   "codemirror_mode": {
    "name": "ipython",
    "version": 3
   },
   "file_extension": ".py",
   "mimetype": "text/x-python",
   "name": "python",
   "nbconvert_exporter": "python",
   "pygments_lexer": "ipython3",
   "version": "3.6.5"
  }
 },
 "nbformat": 4,
 "nbformat_minor": 2
}
